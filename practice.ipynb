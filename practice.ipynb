{
 "cells": [
  {
   "cell_type": "code",
   "execution_count": 1,
   "metadata": {},
   "outputs": [
    {
     "name": "stdout",
     "output_type": "stream",
     "text": [
      "Nothing\n"
     ]
    }
   ],
   "source": [
    "labels = {0: 'Rock', 1: 'Paper', 2: 'Scissors', 3: 'Nothing'}\n",
    "print(labels[3])"
   ]
  }
 ],
 "metadata": {
  "kernelspec": {
   "display_name": "cvrps_env",
   "language": "python",
   "name": "python3"
  },
  "language_info": {
   "codemirror_mode": {
    "name": "ipython",
    "version": 3
   },
   "file_extension": ".py",
   "mimetype": "text/x-python",
   "name": "python",
   "nbconvert_exporter": "python",
   "pygments_lexer": "ipython3",
   "version": "3.10.8"
  },
  "orig_nbformat": 4,
  "vscode": {
   "interpreter": {
    "hash": "da799ace3ac48e6fe9606c9586d7e9cb29deba12dea39c49ae1260b64e315742"
   }
  }
 },
 "nbformat": 4,
 "nbformat_minor": 2
}
